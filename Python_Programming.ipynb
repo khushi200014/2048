{
  "nbformat": 4,
  "nbformat_minor": 0,
  "metadata": {
    "colab": {
      "provenance": [],
      "authorship_tag": "ABX9TyM++zKZZKvz7xPaHwt1Nsf6",
      "include_colab_link": true
    },
    "kernelspec": {
      "name": "python3",
      "display_name": "Python 3"
    },
    "language_info": {
      "name": "python"
    }
  },
  "cells": [
    {
      "cell_type": "markdown",
      "metadata": {
        "id": "view-in-github",
        "colab_type": "text"
      },
      "source": [
        "<a href=\"https://colab.research.google.com/github/khushi200014/2048/blob/main/Python_Programming.ipynb\" target=\"_parent\"><img src=\"https://colab.research.google.com/assets/colab-badge.svg\" alt=\"Open In Colab\"/></a>"
      ]
    },
    {
      "cell_type": "code",
      "execution_count": 2,
      "metadata": {
        "colab": {
          "base_uri": "https://localhost:8080/"
        },
        "id": "dxtQ0jbLnJBu",
        "outputId": "043d0521-933b-4cc1-f7d5-5e11d4022d76"
      },
      "outputs": [
        {
          "output_type": "stream",
          "name": "stdout",
          "text": [
            "Transformed Numbers (Physics Simulation): [1.3333333333333333, 4.166666666666667, 0.0, -4.5, 8.1]\n",
            "Ignoring non-positive number: -3\n",
            "Transformed Numbers (Game Development): [2.512825851041205, 4.027827446727844, 0.0, 5.302585092994046]\n"
          ]
        }
      ],
      "source": [
        "import math\n",
        "\n",
        "def transform_numbers(numbers, use_case):\n",
        "    \"\"\"\n",
        "    Applies a transformation to each number in the given list based on the specified use case.\n",
        "\n",
        "    Parameters:\n",
        "        numbers (list of int/float): List of numbers to be transformed.\n",
        "        use_case (str): Specifies the real-life use case for the transformation.\n",
        "\n",
        "    Returns:\n",
        "        transformed_numbers (list of float): List of transformed numbers.\n",
        "    \"\"\"\n",
        "    transformed_numbers = []\n",
        "\n",
        "    if use_case == \"Physics Simulation\":\n",
        "        # Transformation representing potential energy\n",
        "        for num in numbers:\n",
        "            try:\n",
        "                transformed_num = (num ** 2) / (num + 1)\n",
        "                transformed_numbers.append(transformed_num)\n",
        "            except ZeroDivisionError:\n",
        "                print(f\"Ignoring number: {num} - Division by zero.\")\n",
        "                continue\n",
        "\n",
        "    elif use_case == \"Game Development\":\n",
        "        # Transformation using creative mathematical operation\n",
        "        for num in numbers:\n",
        "            try:\n",
        "                transformed_num = math.sqrt(num) + math.log(num + 1)\n",
        "                transformed_numbers.append(transformed_num)\n",
        "            except ValueError:\n",
        "                print(f\"Ignoring non-positive number: {num}\")\n",
        "                continue\n",
        "\n",
        "    else:\n",
        "        print(\"Invalid use case. Please specify a valid real-life use case.\")\n",
        "\n",
        "    return transformed_numbers\n",
        "\n",
        "# Example usage\n",
        "numbers_list = [2, 5, 0, -3, 9]\n",
        "\n",
        "# Applying transformation for Physics Simulation\n",
        "transformed_list_physics = transform_numbers(numbers_list, \"Physics Simulation\")\n",
        "print(\"Transformed Numbers (Physics Simulation):\", transformed_list_physics)\n",
        "\n",
        "# Applying transformation for Game Development\n",
        "transformed_list_game = transform_numbers(numbers_list, \"Game Development\")\n",
        "print(\"Transformed Numbers (Game Development):\", transformed_list_game)"
      ]
    }
  ]
}